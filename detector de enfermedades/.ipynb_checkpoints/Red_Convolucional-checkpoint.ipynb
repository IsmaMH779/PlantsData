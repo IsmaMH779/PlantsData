{
 "cells": [
  {
   "cell_type": "code",
   "execution_count": 57,
   "id": "06ecb8b7",
   "metadata": {},
   "outputs": [],
   "source": [
    "import os\n",
    "import numpy as np\n",
    "from PIL import Image\n",
    "import tensorflow as tf\n",
    "from tensorflow.keras.preprocessing.image import ImageDataGenerator\n",
    "from tensorflow.keras.models import Sequential\n",
    "from tensorflow.keras.layers import Conv2D, MaxPooling2D, Flatten, Dense"
   ]
  },
  {
   "cell_type": "code",
   "execution_count": 58,
   "id": "8e4a6d14",
   "metadata": {},
   "outputs": [],
   "source": [
    "#ruta de las imagenes\n",
    "\n",
    "healthy_route = 'PlantVillage/train/Apple___healthy'\n",
    "disease_route = 'PlantVillage/train/Apple___Cedar_apple_rust'\n",
    "\n",
    "image = []\n",
    "tags = []"
   ]
  },
  {
   "cell_type": "code",
   "execution_count": 59,
   "id": "f02f2d99",
   "metadata": {},
   "outputs": [],
   "source": [
    "#funcion para cargar y preprocesar las imagenes\n",
    "\n",
    "def load_img_from_folder(route, tag):\n",
    "    for filename in os.listdir(route):\n",
    "        if filename.endswith('.JPG') or filename.endswith('.png'):\n",
    "            img = Image.open(os.path.join(route, filename))\n",
    "            img = img.resize((150, 150))\n",
    "            img = np.array(img)\n",
    "            image.append(img)\n",
    "            tags.append(tag)"
   ]
  },
  {
   "cell_type": "code",
   "execution_count": 60,
   "id": "7a6b7f29",
   "metadata": {},
   "outputs": [],
   "source": [
    "#cargar imagenes + convertir las listas en matrices de np\n",
    "\n",
    "load_img_from_folder(healthy_route, 0)\n",
    "load_img_from_folder(disease_route, 1)\n",
    "\n",
    "X = np.array(image)\n",
    "y = np.array(tags)"
   ]
  },
  {
   "cell_type": "code",
   "execution_count": 61,
   "id": "dd7db95e",
   "metadata": {},
   "outputs": [
    {
     "name": "stdout",
     "output_type": "stream",
     "text": [
      "Dimensiones de las imágenes: (1536, 150, 150, 3)\n",
      "Dimensiones de las etiquetas: (1536,)\n"
     ]
    }
   ],
   "source": [
    "#verificar la dimension de los datos \n",
    "\n",
    "print(\"Dimensiones de las imágenes:\", X.shape)\n",
    "print(\"Dimensiones de las etiquetas:\", y.shape)"
   ]
  },
  {
   "cell_type": "code",
   "execution_count": 62,
   "id": "22af3045",
   "metadata": {},
   "outputs": [],
   "source": [
    "from sklearn.model_selection import train_test_split"
   ]
  },
  {
   "cell_type": "code",
   "execution_count": 63,
   "id": "506ba60d",
   "metadata": {},
   "outputs": [],
   "source": [
    "#dividir los datos \n",
    "\n",
    "X_train, X_test, y_train, y_test = train_test_split(X, y, test_size=0.2, random_state=42)"
   ]
  },
  {
   "cell_type": "code",
   "execution_count": 64,
   "id": "81598302",
   "metadata": {},
   "outputs": [],
   "source": [
    "#crear un generador de img para el entrenamiento\n",
    "\n",
    "train_datagen = ImageDataGenerator(\n",
    "    rescale=1.0/255.0,\n",
    "    rotation_range=20,\n",
    "    width_shift_range=0.2,\n",
    "    height_shift_range=0.2,\n",
    "    shear_range=0.2,\n",
    "    zoom_range=0.2,\n",
    "    horizontal_flip=True\n",
    ")\n",
    "\n",
    "train_generator = train_datagen.flow(\n",
    "    X_train, y_train,\n",
    "    batch_size=32\n",
    ")"
   ]
  },
  {
   "cell_type": "code",
   "execution_count": 65,
   "id": "975f4a87",
   "metadata": {},
   "outputs": [],
   "source": [
    "#construir la CNN\n",
    "\n",
    "model = Sequential([\n",
    "    Conv2D(32, (3, 3), activation='relu', input_shape=(150, 150, 3)),\n",
    "    MaxPooling2D(2, 2),\n",
    "    Conv2D(64, (3, 3), activation='relu'),\n",
    "    MaxPooling2D(2, 2),\n",
    "    Conv2D(128, (3, 3), activation='relu'),\n",
    "    MaxPooling2D(2, 2),\n",
    "    Flatten(),\n",
    "    Dense(128, activation='relu'),\n",
    "    Dense(1, activation='sigmoid') \n",
    "])"
   ]
  },
  {
   "cell_type": "code",
   "execution_count": 66,
   "id": "0e794987",
   "metadata": {},
   "outputs": [],
   "source": [
    "#compilar el modelo\n",
    "\n",
    "model.compile(optimizer='adam', loss='binary_crossentropy', metrics=['accuracy'])"
   ]
  },
  {
   "cell_type": "code",
   "execution_count": 67,
   "id": "c57f367a",
   "metadata": {},
   "outputs": [
    {
     "name": "stdout",
     "output_type": "stream",
     "text": [
      "Epoch 1/10\n",
      "38/38 [==============================] - 14s 357ms/step - loss: 0.3026 - accuracy: 0.8963 - val_loss: 11.5025 - val_accuracy: 0.9740\n",
      "Epoch 2/10\n",
      "38/38 [==============================] - 14s 353ms/step - loss: 0.1033 - accuracy: 0.9624 - val_loss: 7.5586 - val_accuracy: 0.9805\n",
      "Epoch 3/10\n",
      "38/38 [==============================] - 13s 345ms/step - loss: 0.0671 - accuracy: 0.9766 - val_loss: 1.3228 - val_accuracy: 0.9935\n",
      "Epoch 4/10\n",
      "38/38 [==============================] - 14s 363ms/step - loss: 0.0753 - accuracy: 0.9758 - val_loss: 2.9860 - val_accuracy: 0.9903\n",
      "Epoch 5/10\n",
      "38/38 [==============================] - 14s 362ms/step - loss: 0.0437 - accuracy: 0.9841 - val_loss: 3.8470 - val_accuracy: 0.9903\n",
      "Epoch 6/10\n",
      "38/38 [==============================] - 13s 348ms/step - loss: 0.0804 - accuracy: 0.9682 - val_loss: 4.4091 - val_accuracy: 0.9870\n",
      "Epoch 7/10\n",
      "38/38 [==============================] - 13s 345ms/step - loss: 0.0494 - accuracy: 0.9791 - val_loss: 200.9776 - val_accuracy: 0.8961\n",
      "Epoch 8/10\n",
      "38/38 [==============================] - 14s 359ms/step - loss: 0.0943 - accuracy: 0.9732 - val_loss: 0.0566 - val_accuracy: 0.9968\n",
      "Epoch 9/10\n",
      "38/38 [==============================] - 14s 378ms/step - loss: 0.0380 - accuracy: 0.9875 - val_loss: 34.8379 - val_accuracy: 0.9675\n",
      "Epoch 10/10\n",
      "38/38 [==============================] - 13s 342ms/step - loss: 0.0215 - accuracy: 0.9883 - val_loss: 8.3441 - val_accuracy: 0.9838\n"
     ]
    }
   ],
   "source": [
    "#entrenar el modelo\n",
    "\n",
    "history = model.fit(\n",
    "    train_generator,\n",
    "    steps_per_epoch=len(X_train) // 32,\n",
    "    epochs=10,\n",
    "    validation_data=(X_test, y_test)\n",
    ")"
   ]
  },
  {
   "cell_type": "code",
   "execution_count": 53,
   "id": "cf46eb5c",
   "metadata": {
    "scrolled": true
   },
   "outputs": [],
   "source": [
    "#Hacer predicciones en una nueva imagen\n",
    "\n",
    "new_img_path= 'PlantVillage/val/Grape___Black_rot/04bd87b8-f596-4ccc-a9c9-6af129535edc___FAM_B.Rot 0578.JPG'\n",
    "new_img = Image.open(new_img_path)\n",
    "new_img = new_img.resize((150,150))\n",
    "new_img = np.array(new_img) / 255.0\n",
    "new_img = np.expand_dims(new_img, axis = 0)"
   ]
  },
  {
   "cell_type": "code",
   "execution_count": 54,
   "id": "610bfffd",
   "metadata": {},
   "outputs": [
    {
     "name": "stdout",
     "output_type": "stream",
     "text": [
      "1/1 [==============================] - 0s 18ms/step\n",
      "La planta está enferma.\n"
     ]
    }
   ],
   "source": [
    "prediccion = model.predict(new_img)\n",
    "\n",
    "if prediccion[0][0] >= 0.5:\n",
    "    print(\"La planta está enferma.\")\n",
    "else:\n",
    "    print(\"La planta está sana.\")"
   ]
  },
  {
   "cell_type": "code",
   "execution_count": 68,
   "id": "bf276d12",
   "metadata": {},
   "outputs": [],
   "source": [
    "#Guardar el modelo\n",
    "\n",
    "model.save('Modelo_entrenado/modelo_entrenado_Grape.h5')"
   ]
  },
  {
   "cell_type": "code",
   "execution_count": null,
   "id": "d29c172d",
   "metadata": {},
   "outputs": [],
   "source": []
  }
 ],
 "metadata": {
  "kernelspec": {
   "display_name": "Python 3 (ipykernel)",
   "language": "python",
   "name": "python3"
  },
  "language_info": {
   "codemirror_mode": {
    "name": "ipython",
    "version": 3
   },
   "file_extension": ".py",
   "mimetype": "text/x-python",
   "name": "python",
   "nbconvert_exporter": "python",
   "pygments_lexer": "ipython3",
   "version": "3.10.13"
  }
 },
 "nbformat": 4,
 "nbformat_minor": 5
}
