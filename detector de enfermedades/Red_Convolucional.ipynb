{
 "cells": [
  {
   "cell_type": "code",
   "execution_count": 57,
   "id": "06ecb8b7",
   "metadata": {},
   "outputs": [],
   "source": [
    "import os\n",
    "import numpy as np\n",
    "from PIL import Image\n",
    "import tensorflow as tf\n",
    "from tensorflow.keras.preprocessing.image import ImageDataGenerator\n",
    "from tensorflow.keras.models import Sequential\n",
    "from tensorflow.keras.layers import Conv2D, MaxPooling2D, Flatten, Dense"
   ]
  },
  {
   "cell_type": "code",
   "execution_count": 69,
   "id": "8e4a6d14",
   "metadata": {},
   "outputs": [],
   "source": [
    "#ruta de las imagenes\n",
    "\n",
    "healthy_route = 'PlantVillage/train/Grape___healthy'\n",
    "disease_route = 'PlantVillage/train/Grape___Black_rot'\n",
    "\n",
    "image = []\n",
    "tags = []"
   ]
  },
  {
   "cell_type": "code",
   "execution_count": 70,
   "id": "f02f2d99",
   "metadata": {},
   "outputs": [],
   "source": [
    "#funcion para cargar y preprocesar las imagenes\n",
    "\n",
    "def load_img_from_folder(route, tag):\n",
    "    for filename in os.listdir(route):\n",
    "        if filename.endswith('.JPG') or filename.endswith('.png'):\n",
    "            img = Image.open(os.path.join(route, filename))\n",
    "            img = img.resize((150, 150))\n",
    "            img = np.array(img)\n",
    "            image.append(img)\n",
    "            tags.append(tag)"
   ]
  },
  {
   "cell_type": "code",
   "execution_count": 71,
   "id": "7a6b7f29",
   "metadata": {},
   "outputs": [],
   "source": [
    "#cargar imagenes + convertir las listas en matrices de np\n",
    "\n",
    "load_img_from_folder(healthy_route, 0)\n",
    "load_img_from_folder(disease_route, 1)\n",
    "\n",
    "X = np.array(image)\n",
    "y = np.array(tags)"
   ]
  },
  {
   "cell_type": "code",
   "execution_count": 72,
   "id": "dd7db95e",
   "metadata": {},
   "outputs": [
    {
     "name": "stdout",
     "output_type": "stream",
     "text": [
      "Dimensiones de las imágenes: (969, 150, 150, 3)\n",
      "Dimensiones de las etiquetas: (969,)\n"
     ]
    }
   ],
   "source": [
    "#verificar la dimension de los datos \n",
    "\n",
    "print(\"Dimensiones de las imágenes:\", X.shape)\n",
    "print(\"Dimensiones de las etiquetas:\", y.shape)"
   ]
  },
  {
   "cell_type": "code",
   "execution_count": 73,
   "id": "22af3045",
   "metadata": {},
   "outputs": [],
   "source": [
    "from sklearn.model_selection import train_test_split"
   ]
  },
  {
   "cell_type": "code",
   "execution_count": 74,
   "id": "506ba60d",
   "metadata": {},
   "outputs": [],
   "source": [
    "#dividir los datos \n",
    "\n",
    "X_train, X_test, y_train, y_test = train_test_split(X, y, test_size=0.2, random_state=42)"
   ]
  },
  {
   "cell_type": "code",
   "execution_count": 75,
   "id": "81598302",
   "metadata": {},
   "outputs": [],
   "source": [
    "#crear un generador de img para el entrenamiento\n",
    "\n",
    "train_datagen = ImageDataGenerator(\n",
    "    rescale=1.0/255.0,\n",
    "    rotation_range=20,\n",
    "    width_shift_range=0.2,\n",
    "    height_shift_range=0.2,\n",
    "    shear_range=0.2,\n",
    "    zoom_range=0.2,\n",
    "    horizontal_flip=True\n",
    ")\n",
    "\n",
    "train_generator = train_datagen.flow(\n",
    "    X_train, y_train,\n",
    "    batch_size=32\n",
    ")"
   ]
  },
  {
   "cell_type": "code",
   "execution_count": 76,
   "id": "975f4a87",
   "metadata": {},
   "outputs": [],
   "source": [
    "#construir la CNN\n",
    "\n",
    "model = Sequential([\n",
    "    Conv2D(32, (3, 3), activation='relu', input_shape=(150, 150, 3)),\n",
    "    MaxPooling2D(2, 2),\n",
    "    Conv2D(64, (3, 3), activation='relu'),\n",
    "    MaxPooling2D(2, 2),\n",
    "    Conv2D(128, (3, 3), activation='relu'),\n",
    "    MaxPooling2D(2, 2),\n",
    "    Flatten(),\n",
    "    Dense(128, activation='relu'),\n",
    "    Dense(1, activation='sigmoid') \n",
    "])"
   ]
  },
  {
   "cell_type": "code",
   "execution_count": 77,
   "id": "0e794987",
   "metadata": {},
   "outputs": [],
   "source": [
    "#compilar el modelo\n",
    "\n",
    "model.compile(optimizer='adam', loss='binary_crossentropy', metrics=['accuracy'])"
   ]
  },
  {
   "cell_type": "code",
   "execution_count": 78,
   "id": "c57f367a",
   "metadata": {},
   "outputs": [
    {
     "name": "stdout",
     "output_type": "stream",
     "text": [
      "Epoch 1/10\n",
      "24/24 [==============================] - 9s 358ms/step - loss: 0.1097 - accuracy: 0.9529 - val_loss: 0.0000e+00 - val_accuracy: 1.0000\n",
      "Epoch 2/10\n",
      "24/24 [==============================] - 8s 340ms/step - loss: 0.0217 - accuracy: 0.9838 - val_loss: 0.0000e+00 - val_accuracy: 1.0000\n",
      "Epoch 3/10\n",
      "24/24 [==============================] - 9s 348ms/step - loss: 0.0144 - accuracy: 0.9960 - val_loss: 0.0715 - val_accuracy: 0.9948\n",
      "Epoch 4/10\n",
      "24/24 [==============================] - 8s 347ms/step - loss: 0.0101 - accuracy: 0.9987 - val_loss: 3.9419 - val_accuracy: 0.9845\n",
      "Epoch 5/10\n",
      "24/24 [==============================] - 8s 339ms/step - loss: 0.0083 - accuracy: 0.9973 - val_loss: 0.0000e+00 - val_accuracy: 1.0000\n",
      "Epoch 6/10\n",
      "24/24 [==============================] - 9s 349ms/step - loss: 0.0064 - accuracy: 0.9987 - val_loss: 0.0000e+00 - val_accuracy: 1.0000\n",
      "Epoch 7/10\n",
      "24/24 [==============================] - 8s 339ms/step - loss: 0.0103 - accuracy: 0.9973 - val_loss: 0.0000e+00 - val_accuracy: 1.0000\n",
      "Epoch 8/10\n",
      "24/24 [==============================] - 8s 344ms/step - loss: 0.0052 - accuracy: 0.9987 - val_loss: 0.0000e+00 - val_accuracy: 1.0000\n",
      "Epoch 9/10\n",
      "24/24 [==============================] - 9s 348ms/step - loss: 0.0214 - accuracy: 0.9960 - val_loss: 0.0000e+00 - val_accuracy: 1.0000\n",
      "Epoch 10/10\n",
      "24/24 [==============================] - 8s 345ms/step - loss: 0.0079 - accuracy: 0.9987 - val_loss: 0.0000e+00 - val_accuracy: 1.0000\n"
     ]
    }
   ],
   "source": [
    "#entrenar el modelo\n",
    "\n",
    "history = model.fit(\n",
    "    train_generator,\n",
    "    steps_per_epoch=len(X_train) // 32,\n",
    "    epochs=10,\n",
    "    validation_data=(X_test, y_test)\n",
    ")"
   ]
  },
  {
   "cell_type": "code",
   "execution_count": 53,
   "id": "cf46eb5c",
   "metadata": {
    "scrolled": true
   },
   "outputs": [],
   "source": [
    "#Hacer predicciones en una nueva imagen\n",
    "\n",
    "new_img_path= 'PlantVillage/val/Grape___Black_rot/04bd87b8-f596-4ccc-a9c9-6af129535edc___FAM_B.Rot 0578.JPG'\n",
    "new_img = Image.open(new_img_path)\n",
    "new_img = new_img.resize((150,150))\n",
    "new_img = np.array(new_img) / 255.0\n",
    "new_img = np.expand_dims(new_img, axis = 0)"
   ]
  },
  {
   "cell_type": "code",
   "execution_count": 54,
   "id": "610bfffd",
   "metadata": {},
   "outputs": [
    {
     "name": "stdout",
     "output_type": "stream",
     "text": [
      "1/1 [==============================] - 0s 18ms/step\n",
      "La planta está enferma.\n"
     ]
    }
   ],
   "source": [
    "prediccion = model.predict(new_img)\n",
    "\n",
    "if prediccion[0][0] >= 0.5:\n",
    "    print(\"La planta está enferma.\")\n",
    "else:\n",
    "    print(\"La planta está sana.\")"
   ]
  },
  {
   "cell_type": "code",
   "execution_count": 79,
   "id": "bf276d12",
   "metadata": {},
   "outputs": [],
   "source": [
    "#Guardar el modelo\n",
    "\n",
    "model.save('Modelo_entrenado/modelo_entrenado_maize.h5')"
   ]
  },
  {
   "cell_type": "code",
   "execution_count": null,
   "id": "754d79ab",
   "metadata": {},
   "outputs": [],
   "source": []
  }
 ],
 "metadata": {
  "kernelspec": {
   "display_name": "Python 3 (ipykernel)",
   "language": "python",
   "name": "python3"
  },
  "language_info": {
   "codemirror_mode": {
    "name": "ipython",
    "version": 3
   },
   "file_extension": ".py",
   "mimetype": "text/x-python",
   "name": "python",
   "nbconvert_exporter": "python",
   "pygments_lexer": "ipython3",
   "version": "3.10.13"
  }
 },
 "nbformat": 4,
 "nbformat_minor": 5
}
